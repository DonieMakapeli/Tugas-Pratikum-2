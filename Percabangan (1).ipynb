{
 "cells": [
  {
   "cell_type": "code",
   "execution_count": null,
   "id": "9c8d2e6b",
   "metadata": {},
   "outputs": [],
   "source": [
    "kondisi percabangan adalah sebuah cara komputer untuk mengambil keputusan, jika\n",
    "terdapat 2 atau lebih statement\n",
    "\n",
    "sintaks:\n",
    "    \n",
    "    1.jika terdapat 1 kondisi yang akan di eksekusi\n",
    "      \n",
    "        if kondisi:\n",
    "        <tab>statement 1\n",
    "        else:\n",
    "        <tab>statement 2"
   ]
  },
  {
   "cell_type": "code",
   "execution_count": 2,
   "id": "f422c55f",
   "metadata": {},
   "outputs": [
    {
     "name": "stdout",
     "output_type": "stream",
     "text": [
      "Isikan Bilangan:7\n",
      "7 adalah bilangan ganjil\n"
     ]
    }
   ],
   "source": [
    "nilai = int(input('Isikan Bilangan:'))\n",
    "sisa_bagi = nilai % 2\n",
    "\n",
    "if sisa_bagi ==0:\n",
    "    print(nilai,\"adalah bilangan genap\")\n",
    "else:\n",
    "    print(f\"{nilai} adalah bilangan ganjil\") "
   ]
  },
  {
   "cell_type": "code",
   "execution_count": null,
   "id": "100ed292",
   "metadata": {},
   "outputs": [],
   "source": [
    "2. Jika terdapat 2 kondisi\n",
    "\n",
    "Sintaknya:\n",
    "\n",
    "if kondisi_1:\n",
    "<tab>statement 1 \n",
    "elif kondisi_2:\n",
    "<tab>statement 2\n",
    "else:\n",
    "<tab>statement 3"
   ]
  },
  {
   "cell_type": "code",
   "execution_count": 2,
   "id": "ef0441e8",
   "metadata": {},
   "outputs": [
    {
     "name": "stdout",
     "output_type": "stream",
     "text": [
      "Isikan Nilai Pemrograman Mahasiswa:100\n",
      "Nilai Huruf Mahasiswa: A\n"
     ]
    }
   ],
   "source": [
    "# 0 - 49 => E\n",
    "# 50 - 59 => D\n",
    "# 60 - 69 => C\n",
    "# 70 - 84 => B\n",
    "# 85 - 100 => A\n",
    "\n",
    "nilai_mhs = int(input('Isikan Nilai Pemrograman Mahasiswa:'))\n",
    "\n",
    "if nilai_mhs >=0 and nilai_mhs < 50:\n",
    "    keterangan = \"E\"\n",
    "elif nilai_mhs >=50 and nilai_mhs <60:\n",
    "    keterangan = \"D\"\n",
    "elif nilai_mhs >=60 and nilai_mhs <70:\n",
    "    keterangan = \"C\"\n",
    "elif nilai_mhs >=70 and nilai_mhs <85:\n",
    "    keterangan = \"B\"\n",
    "elif nilai_mhs >=85 and nilai_mhs <101:\n",
    "    keterangan = \"A\"\n",
    "\n",
    "print(\"Nilai Huruf Mahasiswa:\", keterangan)"
   ]
  },
  {
   "cell_type": "code",
   "execution_count": 1,
   "id": "f0dcca5e",
   "metadata": {},
   "outputs": [
    {
     "name": "stdout",
     "output_type": "stream",
     "text": [
      "Isikan Nama AndaDonie Makapeli\n",
      "Isikan Tanggal Lahir14/07/2004\n",
      "Nama Awal :  Donie\n",
      "Nama Akhir:  Makapeli\n",
      "Tgl Lahir: 14\n",
      "Bulan Lahir: Juli\n",
      "Tahun Lahir 2004\n",
      "Nama Inisial: DM\n"
     ]
    }
   ],
   "source": [
    "nama = input(\"Isikan Nama Anda\")\n",
    "tgl = input(\"Isikan Tanggal Lahir\")\n",
    "\n",
    "\n",
    "list_nama = nama.split()\n",
    "print(\"Nama Awal : \" ,list_nama[0])\n",
    "print(\"Nama Akhir: \" ,list_nama[1])\n",
    "\n",
    "list_tgl = tgl.split('/')\n",
    "print('Tgl Lahir:', list_tgl[0])\n",
    "keterangan=\"\"\n",
    "if list_tgl[1]==\"01\":\n",
    "    keterangan= \"Januari\"\n",
    "elif list_tgl[1]==\"02\":\n",
    "    keterangan= \"Februari\"\n",
    "elif list_tgl[1]==\"03\":\n",
    "    keterangan=\"Maret\"\n",
    "elif list_tgl[1]==\"04\":\n",
    "    keterangan=\"April\"\n",
    "elif list_tgl[1]==\"05\":\n",
    "    keterangan=\"Mei\"\n",
    "elif list_tgl[1]==\"06\":\n",
    "    keterangan=\"Juni\"\n",
    "elif list_tgl[1]==\"07\":\n",
    "    keterangan=\"Juli\"\n",
    "elif list_tgl[1]==\"08\":\n",
    "    keterangan=\"Agustus\"\n",
    "elif list_tgl[1]==\"09\":\n",
    "    keterangan=\"September\"\n",
    "elif list_tgl[1]==\"10\":\n",
    "    keterangan=\"Oktober\"\n",
    "elif list_tgl[1]==\"11\":\n",
    "    keterangan=\"November\"\n",
    "elif list_tgl[1]==\"12\":\n",
    "    keterangan=\"Desember\"\n",
    "print('Bulan Lahir:', keterangan)\n",
    "print('Tahun Lahir', list_tgl[2])\n",
    "\n",
    "Inisial = list_nama[0][0] + list_nama[1][0]\n",
    "print('Nama Inisial:', Inisial)"
   ]
  }
 ],
 "metadata": {
  "kernelspec": {
   "display_name": "Python 3 (ipykernel)",
   "language": "python",
   "name": "python3"
  },
  "language_info": {
   "codemirror_mode": {
    "name": "ipython",
    "version": 3
   },
   "file_extension": ".py",
   "mimetype": "text/x-python",
   "name": "python",
   "nbconvert_exporter": "python",
   "pygments_lexer": "ipython3",
   "version": "3.9.12"
  }
 },
 "nbformat": 4,
 "nbformat_minor": 5
}
