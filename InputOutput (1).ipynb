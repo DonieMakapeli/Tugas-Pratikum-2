{
 "cells": [
  {
   "cell_type": "code",
   "execution_count": 49,
   "id": "27e7d4fa",
   "metadata": {
    "scrolled": true
   },
   "outputs": [
    {
     "name": "stdout",
     "output_type": "stream",
     "text": [
      "Isikan Nama AwalDoni\n",
      "Isikan Nama TengahMaka\n",
      "Isikan Nama Akhirpeli\n",
      "Selamat Datang Doni Maka peli S.Kom\n"
     ]
    }
   ],
   "source": [
    "fname = input('Isikan Nama Awal')\n",
    "mname = input('Isikan Nama Tengah')\n",
    "lname = input('Isikan Nama Akhir')\n",
    "\n",
    "print('Selamat Datang',fname,mname,lname,\"S.Kom\")"
   ]
  },
  {
   "cell_type": "code",
   "execution_count": 6,
   "id": "ea041c8d",
   "metadata": {},
   "outputs": [
    {
     "name": "stdout",
     "output_type": "stream",
     "text": [
      "Isikan Bilangan 1:1\n",
      "Isikan Bilangan 2:1\n",
      "<class 'str'>\n",
      "Hasil Penjumlahan 2\n"
     ]
    }
   ],
   "source": [
    "bil1 = input('Isikan Bilangan 1:')\n",
    "bil2 = input('Isikan Bilangan 2:')\n",
    "print(type(bil1))\n",
    "hasil = int(bil1) + int(bil2)\n",
    "print('Hasil Penjumlahan',hasil)"
   ]
  },
  {
   "cell_type": "code",
   "execution_count": 8,
   "id": "772ee717",
   "metadata": {},
   "outputs": [
    {
     "name": "stdout",
     "output_type": "stream",
     "text": [
      "Isikan Panjang persegi12\n",
      "Isikan Lebar Persegi14\n",
      "Luas Persegi Panjang 168\n",
      "Keliling Persegi Panjang 26\n"
     ]
    }
   ],
   "source": [
    "#luas => p * l\n",
    "#keliling => 2 * (p+l)\n",
    "\n",
    "p = input('Isikan Panjang persegi')\n",
    "l = input('Isikan Lebar Persegi')\n",
    "\n",
    "luas = int(p) * int(l)\n",
    "keliling = 2 * (int(p) + int(1))\n",
    "\n",
    "print('Luas Persegi Panjang',luas)\n",
    "print('Keliling Persegi Panjang',keliling)"
   ]
  },
  {
   "cell_type": "code",
   "execution_count": 11,
   "id": "468cdf57",
   "metadata": {},
   "outputs": [
    {
     "name": "stdout",
     "output_type": "stream",
     "text": [
      "Senin@Selasa@Rabu@Kamis@Jumat@Sabtu@Minggu^_^One\n",
      "Two\n",
      "Three\n",
      "Four\n"
     ]
    }
   ],
   "source": [
    "print(\"Senin\",\"Selasa\",\"Rabu\",\"Kamis\",\"Jumat\",\"Sabtu\",\"Minggu\",sep=\"@\",end=\"^_^\")\n",
    "print(\"One\",\"Two\",\"Three\",\"Four\",sep=\"\\n\")"
   ]
  },
  {
   "cell_type": "code",
   "execution_count": 13,
   "id": "f388f3ba",
   "metadata": {},
   "outputs": [
    {
     "name": "stdout",
     "output_type": "stream",
     "text": [
      "Perkalian 7 dengan 10 adalah 70\n"
     ]
    }
   ],
   "source": [
    "number1 = 7\n",
    "number2 = 10\n",
    "\n",
    "# Hasil perkalian 7 dengan 10 adalah 70\n",
    "print(\"Perkalian {} dengan {} adalah {}\".format(number1,number2,number1 * number2))"
   ]
  },
  {
   "cell_type": "code",
   "execution_count": 18,
   "id": "fdffa6af",
   "metadata": {},
   "outputs": [
    {
     "name": "stdout",
     "output_type": "stream",
     "text": [
      "Urutan Huruf CBA\n"
     ]
    }
   ],
   "source": [
    "first_letter = \"A\"\n",
    "middle_letter = \"B\"\n",
    "last_letter = \"C\"\n",
    "\n",
    "print(\"Urutan Huruf {2}{1}{0}\".format(first_letter,middle_letter,last_letter))\n"
   ]
  },
  {
   "cell_type": "code",
   "execution_count": 21,
   "id": "b316ba9c",
   "metadata": {},
   "outputs": [
    {
     "name": "stdout",
     "output_type": "stream",
     "text": [
      "Sekarang tanggal 20 Bulan Maret Tahun 2024\n"
     ]
    }
   ],
   "source": [
    "# sekarang tanggal 20 Bulan Maret Tahun 2024\n",
    "print(\"Sekarang tanggal {tanggal} Bulan {bulan} Tahun {tahun}\".format(tanggal = 20,bulan=\"Maret\",tahun=\"2024\"))\n",
    "      "
   ]
  },
  {
   "cell_type": "code",
   "execution_count": 28,
   "id": "b1d4d45c",
   "metadata": {},
   "outputs": [
    {
     "name": "stdout",
     "output_type": "stream",
     "text": [
      "Huruf pertama adalah: U\n",
      "Hurus Terakhir adalah: a\n",
      "Huruf Range 0-10: Universitas\n",
      "Putra\n",
      "Nusa Putra\n",
      "artuP asuN satisrevinU\n"
     ]
    }
   ],
   "source": [
    "kampus = \"Universitas Nusa Putra\"\n",
    "print(\"Huruf pertama adalah:\",kampus[0])\n",
    "print(\"Hurus Terakhir adalah:\",kampus [-1])\n",
    "print(\"Huruf Range 0-10:\",kampus[0:11])\n",
    "print(kampus[-5:])\n",
    "print(kampus[12:])\n",
    "# Reverse String\n",
    "print(kampus[::-1])"
   ]
  },
  {
   "cell_type": "code",
   "execution_count": 32,
   "id": "baf9eb1b",
   "metadata": {},
   "outputs": [
    {
     "name": "stdout",
     "output_type": "stream",
     "text": [
      "['Jakarta', 'Sukabumi', 'Malang', 'Bandung', 'Surabaya']\n",
      "Jakarta\n",
      "Jakarta@Sukabumi@Malang@Bandung@Surabaya\n"
     ]
    }
   ],
   "source": [
    "#Split => String -> List\n",
    "kota = \"Jakarta Sukabumi Malang Bandung Surabaya\"\n",
    "list_kota = kota.split()\n",
    "print(list_kota)\n",
    "print(list_kota[0])\n",
    "#Join => List -> String\n",
    "join_kota = \"@\".join(list_kota)\n",
    "print(join_kota)"
   ]
  },
  {
   "cell_type": "code",
   "execution_count": 50,
   "id": "28608a5e",
   "metadata": {},
   "outputs": [
    {
     "name": "stdout",
     "output_type": "stream",
     "text": [
      "Isikan Nama Anda:Donie Makapeli\n",
      "Isikan Tanggal Lahir:14/07/2000\n",
      "Nama Awal : Donie\n",
      "Nama Akhir: Makapeli\n",
      "Nama Inisial: DM\n"
     ]
    }
   ],
   "source": [
    "# Isikan Nama Anda : Bill Gates \n",
    "# Isikan Tanggal Lahir : 18/12/2022\n",
    "# Output\n",
    "# Nama Awal : Bill\n",
    "# Nama Akhir : Gates\n",
    "# Tgl Lahir : 18\n",
    "# Bulan Lahir : 12\n",
    "# Tahun Lahir : 2022\n",
    "# Nama Inisial : Bg\n",
    "\n",
    "nama = input(\"Isikan Nama Anda:\")\n",
    "tgl = input(\"Isikan Tanggal Lahir:\")\n",
    "\n",
    "list_nama = nama.split()\n",
    "print(\"Nama Awal :\" , list_nama[0])\n",
    "print(\"Nama Akhir:\" , list_nama[1])\n",
    "\n",
    "inisial = list_nama[0][0] + list_nama[1][0]\n",
    "\n",
    "print(\"Nama Inisial:\", inisial)"
   ]
  },
  {
   "cell_type": "code",
   "execution_count": 1,
   "id": "79c1748f",
   "metadata": {},
   "outputs": [
    {
     "name": "stdout",
     "output_type": "stream",
     "text": [
      "Isikan Nama AndaDonie Makapeli\n",
      "Isikan Tanggal Lahir14/07/2004\n",
      "Nama Awal :  Donie\n",
      "Nama Akhir:  Makapeli\n",
      "Tgl Lahir: 14\n",
      "Bulan Lahir: Juli\n",
      "Tahun Lahir 2004\n",
      "Nama Inisial: DM\n"
     ]
    }
   ],
   "source": [
    "nama = input(\"Isikan Nama Anda\")\n",
    "tgl = input(\"Isikan Tanggal Lahir\")\n",
    "\n",
    "\n",
    "list_nama = nama.split()\n",
    "print(\"Nama Awal : \" ,list_nama[0])\n",
    "print(\"Nama Akhir: \" ,list_nama[1])\n",
    "\n",
    "list_tgl = tgl.split('/')\n",
    "print('Tgl Lahir:', list_tgl[0])\n",
    "keterangan=\"\"\n",
    "if list_tgl[1]==\"01\":\n",
    "    keterangan= \"Januari\"\n",
    "elif list_tgl[1]==\"02\":\n",
    "    keterangan= \"Februari\"\n",
    "elif list_tgl[1]==\"03\":\n",
    "    keterangan=\"Maret\"\n",
    "elif list_tgl[1]==\"04\":\n",
    "    keterangan=\"April\"\n",
    "elif list_tgl[1]==\"05\":\n",
    "    keterangan=\"Mei\"\n",
    "elif list_tgl[1]==\"06\":\n",
    "    keterangan=\"Juni\"\n",
    "elif list_tgl[1]==\"07\":\n",
    "    keterangan=\"Juli\"\n",
    "elif list_tgl[1]==\"08\":\n",
    "    keterangan=\"Agustus\"\n",
    "elif list_tgl[1]==\"09\":\n",
    "    keterangan=\"September\"\n",
    "elif list_tgl[1]==\"10\":\n",
    "    keterangan=\"Oktober\"\n",
    "elif list_tgl[1]==\"11\":\n",
    "    keterangan=\"November\"\n",
    "elif list_tgl[1]==\"12\":\n",
    "    keterangan=\"Desember\"\n",
    "print('Bulan Lahir:', keterangan)\n",
    "print('Tahun Lahir', list_tgl[2])\n",
    "\n",
    "Inisial = list_nama[0][0] + list_nama[1][0]\n",
    "print('Nama Inisial:', Inisial)"
   ]
  }
 ],
 "metadata": {
  "kernelspec": {
   "display_name": "Python 3 (ipykernel)",
   "language": "python",
   "name": "python3"
  },
  "language_info": {
   "codemirror_mode": {
    "name": "ipython",
    "version": 3
   },
   "file_extension": ".py",
   "mimetype": "text/x-python",
   "name": "python",
   "nbconvert_exporter": "python",
   "pygments_lexer": "ipython3",
   "version": "3.9.12"
  }
 },
 "nbformat": 4,
 "nbformat_minor": 5
}
